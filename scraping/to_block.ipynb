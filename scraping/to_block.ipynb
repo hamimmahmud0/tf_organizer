{
 "cells": [
  {
   "cell_type": "markdown",
   "metadata": {},
   "source": [
    "# Load png files"
   ]
  },
  {
   "cell_type": "code",
   "execution_count": 1,
   "metadata": {},
   "outputs": [
    {
     "name": "stdout",
     "output_type": "stream",
     "text": [
      "Found 1247 PNG files in pdf_images directory.\n"
     ]
    }
   ],
   "source": [
    "import os\n",
    "\n",
    "png_files = [f for f in os.listdir('pdf_images') if f.endswith('.png')]\n",
    "print(f\"Found {len(png_files)} PNG files in pdf_images directory.\")"
   ]
  },
  {
   "cell_type": "markdown",
   "metadata": {},
   "source": [
    "# OCR"
   ]
  },
  {
   "cell_type": "code",
   "execution_count": null,
   "metadata": {},
   "outputs": [],
   "source": [
    "import keras_ocr\n",
    "import numpy as np\n",
    "from PIL import Image\n",
    "\n",
    "# Initialize the pipeline\n",
    "pipeline = keras_ocr.pipeline.Pipeline()\n",
    "\n",
    "# Create a list to store OCR results\n",
    "ocr_results = []\n",
    "\n",
    "# Process images in batches to avoid memory issues\n",
    "batch_size = 10\n",
    "for i in range(0, len(png_files), batch_size):\n",
    "    batch = png_files[i:i + batch_size]\n",
    "    \n",
    "    # Load images from the pdf_images directory\n",
    "    images = [keras_ocr.tools.read(os.path.join('pdf_images', img)) for img in batch]\n",
    "    \n",
    "    # Perform OCR on the batch\n",
    "    predictions = pipeline.recognize(images)\n",
    "    \n",
    "    # Store results\n",
    "    for idx, pred in enumerate(predictions):\n",
    "        filename = batch[idx]\n",
    "        text_predictions = [(text, box.tolist()) for text, box in pred]\n",
    "        ocr_results.append({\n",
    "            'filename': filename,\n",
    "            'text': text_predictions\n",
    "        })\n",
    "    \n",
    "    print(f\"Processed {min(i + batch_size, len(png_files))} of {len(png_files)} images\")\n",
    "\n",
    "# Print first few results as example\n",
    "print(\"\\nFirst result example:\")\n",
    "print(f\"Filename: {ocr_results[0]['filename']}\")\n",
    "print(\"Detected text:\")\n",
    "for text, _ in ocr_results[0]['text']:\n",
    "    print(text)"
   ]
  }
 ],
 "metadata": {
  "kernelspec": {
   "display_name": "tf_organizer",
   "language": "python",
   "name": "python3"
  },
  "language_info": {
   "codemirror_mode": {
    "name": "ipython",
    "version": 3
   },
   "file_extension": ".py",
   "mimetype": "text/x-python",
   "name": "python",
   "nbconvert_exporter": "python",
   "pygments_lexer": "ipython3",
   "version": "3.10.16"
  }
 },
 "nbformat": 4,
 "nbformat_minor": 2
}
